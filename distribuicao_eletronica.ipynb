{
 "cells": [
  {
   "cell_type": "code",
   "execution_count": 62,
   "metadata": {},
   "outputs": [
    {
     "name": "stdout",
     "output_type": "stream",
     "text": [
      "1 s\n",
      "2 s\n",
      "3 s\n",
      "4 s\n",
      "5 s\n",
      "6 s\n",
      "7 s\n",
      "2 p\n",
      "3 p\n",
      "4 p\n",
      "5 p\n",
      "6 p\n",
      "7 p\n",
      "3 d\n",
      "4 d\n",
      "5 d\n",
      "6 d\n",
      "4 f\n",
      "5 f\n"
     ]
    }
   ],
   "source": [
    "import random\n",
    "subniveis_energia = ['s', 'p', 'd', 'f']\n",
    "primeira_covalencia=1\n",
    "for subnivel in subniveis_energia:\n",
    "    if subnivel == 'd':\n",
    "        ultima_covalencia = 7 \n",
    "    elif subnivel == 'f':\n",
    "        ultima_covalencia = 6 \n",
    "    else:\n",
    "        ultima_covalencia = 8\n",
    "        \n",
    "    for camadas in range(primeira_covalencia, ultima_covalencia):\n",
    "        print(camadas, subnivel)\n",
    "        \n",
    "    primeira_covalencia+=1\n"
   ]
  },
  {
   "cell_type": "code",
   "execution_count": 44,
   "metadata": {},
   "outputs": [
    {
     "name": "stdout",
     "output_type": "stream",
     "text": [
      "[['1s'], ['2p', '2s'], ['3d', '3p', '3s'], ['4f', '4d', '4p', '4s'], ['5f', '5d', '5p', '5s'], ['6f', '6d', '6p', '6s'], ['7f', '7d', '7p', '7s']]\n"
     ]
    }
   ],
   "source": [
    "import random\n",
    "camadas = ['s', 'p', 'd', 'f']\n",
    "covalencias_automaticas = []\n",
    "for camada in range(1,8):\n",
    "    count_line = 0\n",
    "    max_camada = camada if camada <= len(camadas) else 4\n",
    "    covalencias_row = []\n",
    "    while count_line < max_camada:\n",
    "        count_line+=1\n",
    "        covalencias_row.append('{}{}'.format(camada, camadas[count_line-1]))\n",
    "        \n",
    "    covalencias_automaticas.append(covalencias_row[::-1])    \n",
    "print(covalencias_automaticas)\n",
    "\n",
    "\n",
    "        "
   ]
  },
  {
   "cell_type": "code",
   "execution_count": 14,
   "metadata": {},
   "outputs": [],
   "source": [
    "covalencias = [\n",
    "    '1s',\n",
    "    '2s', '2p',\n",
    "    '3s', '3p', '3d',\n",
    "    '4s', '4p', '4d', '4f',\n",
    "    '5s', '5p', '5d', '5f',\n",
    "    '6s', '6p', '6d',\n",
    "    '7s', '7p'\n",
    "]\n",
    "\n",
    "real_covalencias = ['1s', '2s', '2p', \n",
    "                    '3s','3p', '4s', '3d',\n",
    "                   '4p', '5']\n",
    "\n",
    "n_orbitais = [\n",
    "    {'s': 2}, \n",
    "    {'p': 6},\n",
    "    {'d': 10},\n",
    "    {'f': 14},\n",
    "]\n",
    "str_orbitas = ['s', 'p', 'd', 'f']\n",
    "familias = 18 # linhas verticais da tabela periodica\n",
    "periodos = 7  # linhas horizontais da tabela periodica\n",
    "z = 11\n",
    "\n",
    "def calc_orbitas():\n",
    "    for orbita in str_orbitas:\n",
    "        print(orbita)"
   ]
  },
  {
   "cell_type": "code",
   "execution_count": 15,
   "metadata": {},
   "outputs": [
    {
     "name": "stdout",
     "output_type": "stream",
     "text": [
      "11\n",
      "11\n",
      "11\n",
      "11\n",
      "11\n",
      "11\n",
      "11\n",
      "11\n",
      "11\n",
      "11\n",
      "11\n"
     ]
    }
   ],
   "source": [
    "z_found=0\n",
    "camadas_covalencia = []\n",
    "while not z_found == z:\n",
    "    print(z)\n",
    "    z_found+=1"
   ]
  }
 ],
 "metadata": {
  "kernelspec": {
   "display_name": "Python 3",
   "language": "python",
   "name": "python3"
  },
  "language_info": {
   "codemirror_mode": {
    "name": "ipython",
    "version": 3
   },
   "file_extension": ".py",
   "mimetype": "text/x-python",
   "name": "python",
   "nbconvert_exporter": "python",
   "pygments_lexer": "ipython3",
   "version": "3.7.1"
  }
 },
 "nbformat": 4,
 "nbformat_minor": 2
}
