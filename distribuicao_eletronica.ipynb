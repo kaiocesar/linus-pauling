{
 "cells": [
  {
   "cell_type": "markdown",
   "metadata": {},
   "source": [
    "# Distribuição Eletronica"
   ]
  },
  {
   "cell_type": "code",
   "execution_count": 124,
   "metadata": {},
   "outputs": [
    {
     "name": "stdout",
     "output_type": "stream",
     "text": [
      "['1s', '2s', '2p', '3s']\n"
     ]
    }
   ],
   "source": [
    "def gen_subniveis():\n",
    "    orbitais = ['s', 'p', 'd', 'f']\n",
    "    orbitais_valor = [2, 6, 10, 14]\n",
    "    covalencias_escrita=[]\n",
    "    covalencias_numerica=[]\n",
    "    for camada in range(1,8):\n",
    "        ultima_covalencia=camada if camada < 4 else 4\n",
    "        l_camada=0\n",
    "        while l_camada < ultima_covalencia:\n",
    "            l_camada+=1\n",
    "            covalencias_escrita.append('{}{}'.format(camada, orbitais[l_camada-1]))\n",
    "            covalencias_numerica.append(orbitais_valor[l_camada-1])\n",
    "    return covalencias_escrita, covalencias_numerica\n",
    "\n",
    "def get_distribuicao_energetica(valor_atomico):\n",
    "    subniveis_escrita, subniveis_numerica = gen_subniveis()\n",
    "    soma_elementos=0\n",
    "    elementos_distribuicao=[]\n",
    "    for index, subnivel in enumerate(subniveis_numerica):\n",
    "        soma_elementos+=subnivel       \n",
    "        elementos_distribuicao.append(subniveis_escrita[index])        \n",
    "        if soma_elementos >= valor_atomico:\n",
    "            valor_ultimo_eletron = soma_elementos - valor_atomico\n",
    "            valor_ultimo_eletron = valor_ultimo_eletron if valor_ultimo_eletron > 0 else subnivel\n",
    "\n",
    "            return elementos_distribuicao\n",
    "            return valor_ultimo_eletron\n",
    "\n",
    "\n",
    "print(get_distribuicao_energetica(11)) # Na = Sódio"
   ]
  },
  {
   "cell_type": "code",
   "execution_count": null,
   "metadata": {},
   "outputs": [],
   "source": []
  }
 ],
 "metadata": {
  "kernelspec": {
   "display_name": "Python 3",
   "language": "python",
   "name": "python3"
  },
  "language_info": {
   "codemirror_mode": {
    "name": "ipython",
    "version": 3
   },
   "file_extension": ".py",
   "mimetype": "text/x-python",
   "name": "python",
   "nbconvert_exporter": "python",
   "pygments_lexer": "ipython3",
   "version": "3.7.1"
  }
 },
 "nbformat": 4,
 "nbformat_minor": 2
}
