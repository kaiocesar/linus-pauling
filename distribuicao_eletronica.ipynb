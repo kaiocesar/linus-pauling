{
 "cells": [
  {
   "cell_type": "markdown",
   "metadata": {},
   "source": [
    "# Distribuição Eletronica"
   ]
  },
  {
   "cell_type": "code",
   "execution_count": 87,
   "metadata": {},
   "outputs": [
    {
     "name": "stdout",
     "output_type": "stream",
     "text": [
      "['1s', '2s', '2p', '3s', '3p', '3d', '4s', '4p', '4d', '4f', '5s', '5p', '5d', '5f', '6s', '6p', '6d', '6f', '7s', '7p', '7d', '7f']\n"
     ]
    }
   ],
   "source": [
    "orbitais = ['s', 'p', 'd', 'f']\n",
    "covalencias=[]\n",
    "for camada in range(1,8):\n",
    "    ultima_covalencia=camada if camada < 4 else 4\n",
    "    l_camada=0\n",
    "    while l_camada < ultima_covalencia:\n",
    "        l_camada+=1\n",
    "        covalencias.append('{}{}'.format(camada, orbitais[l_camada-1]))\n",
    "\n",
    "\n",
    "print(covalencias)\n",
    "    \n",
    "    "
   ]
  },
  {
   "cell_type": "code",
   "execution_count": null,
   "metadata": {},
   "outputs": [],
   "source": []
  },
  {
   "cell_type": "code",
   "execution_count": null,
   "metadata": {},
   "outputs": [],
   "source": []
  }
 ],
 "metadata": {
  "kernelspec": {
   "display_name": "Python 3",
   "language": "python",
   "name": "python3"
  },
  "language_info": {
   "codemirror_mode": {
    "name": "ipython",
    "version": 3
   },
   "file_extension": ".py",
   "mimetype": "text/x-python",
   "name": "python",
   "nbconvert_exporter": "python",
   "pygments_lexer": "ipython3",
   "version": "3.7.1"
  }
 },
 "nbformat": 4,
 "nbformat_minor": 2
}
